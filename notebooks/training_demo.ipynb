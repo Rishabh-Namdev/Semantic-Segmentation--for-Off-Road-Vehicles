{
 "cells": [
  {
   "cell_type": "markdown",
   "id": "4e5a51eb",
   "metadata": {},
   "source": [
    "# DeepLabV3+ Transfer Learning Training Demo\n",
    "\n",
    "DeepLabV3+ with interchangeable backbone transfer learning training demo\n",
    "Net pretrained with COCO val2017, then fine-tuned with Yamaha-CMU Off-Road Dataset\n",
    "\n",
    "---\n",
    "\n",
    "Author: **Nate Haddad** nhaddad2112[at]gmail[dot]com"
   ]
  },
  {
   "cell_type": "code",
   "execution_count": 58,
   "id": "56f65e9c",
   "metadata": {},
   "outputs": [],
   "source": [
    "import os.path as op\n",
    "import sys\n",
    "import os\n",
    "import torch\n",
    "from torchvision import models\n",
    "from torchvision.models.segmentation.deeplabv3 import DeepLabHead\n",
    "import numpy as np\n",
    "from PIL import Image\n",
    "import yaml\n",
    "\n",
    "sys.path.append('H:/Courses/DL_Projects/IS_project/semantic-segmentation/')\n",
    "from utils import get_dataloader, Trainer, display_example_pair\n",
    "from models import DeepLabWrapper"
   ]
  },
  {
   "cell_type": "code",
   "execution_count": 59,
   "id": "8298a608",
   "metadata": {},
   "outputs": [
    {
     "name": "stdout",
     "output_type": "stream",
     "text": [
      "Num GPUs Available: 1\n",
      "GPU 0: NVIDIA GeForce RTX 3060 Laptop GPU\n",
      "Using device: cuda:0\n"
     ]
    }
   ],
   "source": [
    "torch.cuda.is_available()\n",
    "# code to see  if GPU is available, and if not run on CPU\n",
    "device = torch.device('cuda:0' if torch.cuda.is_available() else 'cpu')\n",
    "\n",
    "def check_gpu():\n",
    "    if torch.cuda.is_available():\n",
    "        print(\"Num GPUs Available:\", torch.cuda.device_count())\n",
    "        for i in range(torch.cuda.device_count()):\n",
    "            print(f\"GPU {i}:\", torch.cuda.get_device_name(i))\n",
    "        print(\"Using device:\", device)\n",
    "    else:\n",
    "        print(\"No GPU device found.\")\n",
    "\n",
    "check_gpu()"
   ]
  },
  {
   "cell_type": "code",
   "execution_count": 48,
   "id": "10ebf6d1",
   "metadata": {},
   "outputs": [],
   "source": [
    "np.random.seed(42)"
   ]
  },
  {
   "cell_type": "markdown",
   "id": "0b8fe659",
   "metadata": {},
   "source": [
    "Set up all of our path variables and hyperparamters needed to train the model. Adjust accordingly to your needs"
   ]
  },
  {
   "cell_type": "code",
   "execution_count": 49,
   "id": "d0591d82",
   "metadata": {},
   "outputs": [],
   "source": [
    "with open('H:/Courses/DL_Projects/IS_project/semantic-segmentation/config/config.yaml', 'r') as f:\n",
    "    config = yaml.safe_load(f)"
   ]
  },
  {
   "cell_type": "markdown",
   "id": "21dc97b9",
   "metadata": {},
   "source": [
    "Set up the `data` and `model` directories"
   ]
  },
  {
   "cell_type": "code",
   "execution_count": 50,
   "id": "024f9270",
   "metadata": {},
   "outputs": [],
   "source": [
    "os.makedirs('H:/Courses/DL_Projects/IS_project/semantic-segmentation/data', exist_ok = True)\n",
    "os.makedirs('H:/Courses/DL_Projects/IS_project/semantic-segmentation/runs', exist_ok = True)"
   ]
  },
  {
   "cell_type": "markdown",
   "id": "2bab8b2f",
   "metadata": {},
   "source": [
    "---\n",
    "\n",
    "**IMPORTANT:** we require that you now download the Yamaha CMU Off-Road Dataset from the following url before proceding. The directory and files should be unzipped and placed in the `data` directory of this repository, created above.\n",
    "\n",
    "**Link to download dataset:** https://theairlab.org/yamaha-offroad-dataset/\n",
    "\n",
    "---"
   ]
  },
  {
   "cell_type": "markdown",
   "id": "ef58b6d5",
   "metadata": {},
   "source": [
    "Load an example image from the training set"
   ]
  },
  {
   "cell_type": "code",
   "execution_count": 51,
   "id": "51f30b00",
   "metadata": {},
   "outputs": [],
   "source": [
    "example_image = Image.open(op.join('H:/Courses/DL_Projects/IS_project/semantic-segmentation/', config['DATA_PATH'], 'train/iid000008/rgb.jpg'))\n",
    "example_mask = Image.open(op.join('H:/Courses/DL_Projects/IS_project/semantic-segmentation/', config['DATA_PATH'], 'train/iid000008/labels.png'))\n",
    "image_display = np.array(example_image)\n",
    "mask_display = np.array(example_mask.convert('RGB'))\n",
    "#display_example_pair(image_display, mask_display)"
   ]
  },
  {
   "cell_type": "markdown",
   "id": "4454cb90",
   "metadata": {},
   "source": [
    "Load data into dataloaders"
   ]
  },
  {
   "cell_type": "code",
   "execution_count": 52,
   "id": "d164a618",
   "metadata": {},
   "outputs": [],
   "source": [
    "dataloaders = get_dataloader(op.join('H:/Courses/DL_Projects/IS_project/semantic-segmentation/', config['DATA_PATH']),\n",
    "                             batch_size=config['BATCH_SIZE'],\n",
    "                             resize_shape=(config['IMG_HEIGHT'],\n",
    "                             config['IMG_WIDTH']))"
   ]
  },
  {
   "cell_type": "markdown",
   "id": "a40bad32",
   "metadata": {},
   "source": [
    "### Model Selection\n",
    "\n",
    "Create the model. Note that the model is pretrained on COCO val2017. Replace the output layer with 8 mask channels and the correct number of nodes for the last layer"
   ]
  },
  {
   "cell_type": "code",
   "execution_count": 53,
   "id": "320c8d85",
   "metadata": {},
   "outputs": [],
   "source": [
    "model = DeepLabWrapper(backbone=config['BACKBONE'],\n",
    "                       num_mask_channels=config['NUM_MASK_CHANNELS'],\n",
    "                       pretrained=True,\n",
    "                       progress=True,\n",
    "                       aux_loss=True)"
   ]
  },
  {
   "cell_type": "markdown",
   "id": "b6c0db24",
   "metadata": {},
   "source": [
    "Freeze earlier layers"
   ]
  },
  {
   "cell_type": "code",
   "execution_count": 42,
   "id": "22a5096b",
   "metadata": {},
   "outputs": [],
   "source": [
    "# freeze_layers(model, 0, 14)"
   ]
  },
  {
   "cell_type": "markdown",
   "id": "8582e4e4",
   "metadata": {},
   "source": [
    "Select the optimizer and loss function"
   ]
  },
  {
   "cell_type": "code",
   "execution_count": 54,
   "id": "24b58c63",
   "metadata": {},
   "outputs": [],
   "source": [
    "criterion = torch.nn.CrossEntropyLoss()\n",
    "optimizer = torch.optim.Adam(model.parameters, lr=float(config['LEARNING_RATE']))"
   ]
  },
  {
   "cell_type": "markdown",
   "id": "6003acd5",
   "metadata": {},
   "source": [
    "Train the model"
   ]
  },
  {
   "cell_type": "code",
   "execution_count": 55,
   "id": "658fd5a0",
   "metadata": {
    "scrolled": true
   },
   "outputs": [],
   "source": [
    "trainer = Trainer(model, dataloaders, criterion, optimizer, num_epochs=config['NUM_EPOCHS'], is_inception=config['IS_INCEPTION']);"
   ]
  },
  {
   "cell_type": "code",
   "execution_count": 56,
   "id": "8a1923b8",
   "metadata": {},
   "outputs": [
    {
     "name": "stdout",
     "output_type": "stream",
     "text": [
      "Epoch 1/30\n",
      "----------\n"
     ]
    },
    {
     "name": "stderr",
     "output_type": "stream",
     "text": [
      "100%|██████████| 465/465 [01:46<00:00,  4.36it/s]\n"
     ]
    },
    {
     "name": "stdout",
     "output_type": "stream",
     "text": [
      "train Loss: 2.1595 mIoU: 0.8420\n"
     ]
    },
    {
     "name": "stderr",
     "output_type": "stream",
     "text": [
      "100%|██████████| 72/72 [00:08<00:00,  8.66it/s]\n"
     ]
    },
    {
     "name": "stdout",
     "output_type": "stream",
     "text": [
      "valid Loss: 1.4791 mIoU: 0.8242\n",
      "\n",
      "Epoch 2/30\n",
      "----------\n"
     ]
    },
    {
     "name": "stderr",
     "output_type": "stream",
     "text": [
      "100%|██████████| 465/465 [01:35<00:00,  4.87it/s]\n"
     ]
    },
    {
     "name": "stdout",
     "output_type": "stream",
     "text": [
      "train Loss: 1.4211 mIoU: 0.8577\n"
     ]
    },
    {
     "name": "stderr",
     "output_type": "stream",
     "text": [
      "100%|██████████| 72/72 [00:06<00:00, 10.55it/s]\n"
     ]
    },
    {
     "name": "stdout",
     "output_type": "stream",
     "text": [
      "valid Loss: 1.4247 mIoU: 0.8042\n",
      "\n",
      "Epoch 3/30\n",
      "----------\n"
     ]
    },
    {
     "name": "stderr",
     "output_type": "stream",
     "text": [
      "100%|██████████| 465/465 [01:35<00:00,  4.85it/s]\n"
     ]
    },
    {
     "name": "stdout",
     "output_type": "stream",
     "text": [
      "train Loss: 1.1550 mIoU: 0.8661\n"
     ]
    },
    {
     "name": "stderr",
     "output_type": "stream",
     "text": [
      "100%|██████████| 72/72 [00:06<00:00, 10.87it/s]\n"
     ]
    },
    {
     "name": "stdout",
     "output_type": "stream",
     "text": [
      "valid Loss: 1.4629 mIoU: 0.8213\n",
      "\n",
      "Epoch 4/30\n",
      "----------\n"
     ]
    },
    {
     "name": "stderr",
     "output_type": "stream",
     "text": [
      "100%|██████████| 465/465 [01:35<00:00,  4.88it/s]\n"
     ]
    },
    {
     "name": "stdout",
     "output_type": "stream",
     "text": [
      "train Loss: 1.0553 mIoU: 0.8723\n"
     ]
    },
    {
     "name": "stderr",
     "output_type": "stream",
     "text": [
      "100%|██████████| 72/72 [00:06<00:00, 10.88it/s]\n"
     ]
    },
    {
     "name": "stdout",
     "output_type": "stream",
     "text": [
      "valid Loss: 1.1703 mIoU: 0.8235\n",
      "\n",
      "Epoch 5/30\n",
      "----------\n"
     ]
    },
    {
     "name": "stderr",
     "output_type": "stream",
     "text": [
      "100%|██████████| 465/465 [01:35<00:00,  4.88it/s]\n"
     ]
    },
    {
     "name": "stdout",
     "output_type": "stream",
     "text": [
      "train Loss: 0.9911 mIoU: 0.8787\n"
     ]
    },
    {
     "name": "stderr",
     "output_type": "stream",
     "text": [
      "100%|██████████| 72/72 [00:06<00:00, 10.80it/s]\n"
     ]
    },
    {
     "name": "stdout",
     "output_type": "stream",
     "text": [
      "valid Loss: 1.1184 mIoU: 0.8244\n",
      "\n",
      "Epoch 6/30\n",
      "----------\n"
     ]
    },
    {
     "name": "stderr",
     "output_type": "stream",
     "text": [
      "100%|██████████| 465/465 [01:36<00:00,  4.83it/s]\n"
     ]
    },
    {
     "name": "stdout",
     "output_type": "stream",
     "text": [
      "train Loss: 0.9407 mIoU: 0.8834\n"
     ]
    },
    {
     "name": "stderr",
     "output_type": "stream",
     "text": [
      "100%|██████████| 72/72 [00:06<00:00, 10.76it/s]\n"
     ]
    },
    {
     "name": "stdout",
     "output_type": "stream",
     "text": [
      "valid Loss: 1.0966 mIoU: 0.8309\n",
      "\n",
      "Epoch 7/30\n",
      "----------\n"
     ]
    },
    {
     "name": "stderr",
     "output_type": "stream",
     "text": [
      "100%|██████████| 465/465 [01:34<00:00,  4.90it/s]\n"
     ]
    },
    {
     "name": "stdout",
     "output_type": "stream",
     "text": [
      "train Loss: 0.8891 mIoU: 0.8880\n"
     ]
    },
    {
     "name": "stderr",
     "output_type": "stream",
     "text": [
      "100%|██████████| 72/72 [00:06<00:00, 10.94it/s]\n"
     ]
    },
    {
     "name": "stdout",
     "output_type": "stream",
     "text": [
      "valid Loss: 1.1478 mIoU: 0.8247\n",
      "\n",
      "Epoch 8/30\n",
      "----------\n"
     ]
    },
    {
     "name": "stderr",
     "output_type": "stream",
     "text": [
      "100%|██████████| 465/465 [01:36<00:00,  4.84it/s]\n"
     ]
    },
    {
     "name": "stdout",
     "output_type": "stream",
     "text": [
      "train Loss: 0.8420 mIoU: 0.8967\n"
     ]
    },
    {
     "name": "stderr",
     "output_type": "stream",
     "text": [
      "100%|██████████| 72/72 [00:06<00:00, 10.55it/s]\n"
     ]
    },
    {
     "name": "stdout",
     "output_type": "stream",
     "text": [
      "valid Loss: 1.3006 mIoU: 0.8257\n",
      "\n",
      "Epoch 9/30\n",
      "----------\n"
     ]
    },
    {
     "name": "stderr",
     "output_type": "stream",
     "text": [
      "100%|██████████| 465/465 [01:35<00:00,  4.85it/s]\n"
     ]
    },
    {
     "name": "stdout",
     "output_type": "stream",
     "text": [
      "train Loss: 0.8034 mIoU: 0.9037\n"
     ]
    },
    {
     "name": "stderr",
     "output_type": "stream",
     "text": [
      "100%|██████████| 72/72 [00:06<00:00, 10.88it/s]\n"
     ]
    },
    {
     "name": "stdout",
     "output_type": "stream",
     "text": [
      "valid Loss: 1.2433 mIoU: 0.8379\n",
      "\n",
      "Epoch 10/30\n",
      "----------\n"
     ]
    },
    {
     "name": "stderr",
     "output_type": "stream",
     "text": [
      "100%|██████████| 465/465 [01:35<00:00,  4.87it/s]\n"
     ]
    },
    {
     "name": "stdout",
     "output_type": "stream",
     "text": [
      "train Loss: 0.7696 mIoU: 0.9093\n"
     ]
    },
    {
     "name": "stderr",
     "output_type": "stream",
     "text": [
      "100%|██████████| 72/72 [00:06<00:00, 10.77it/s]\n"
     ]
    },
    {
     "name": "stdout",
     "output_type": "stream",
     "text": [
      "valid Loss: 1.2354 mIoU: 0.8287\n",
      "\n",
      "Epoch 11/30\n",
      "----------\n"
     ]
    },
    {
     "name": "stderr",
     "output_type": "stream",
     "text": [
      "100%|██████████| 465/465 [01:35<00:00,  4.87it/s]\n"
     ]
    },
    {
     "name": "stdout",
     "output_type": "stream",
     "text": [
      "train Loss: 0.7144 mIoU: 0.9219\n"
     ]
    },
    {
     "name": "stderr",
     "output_type": "stream",
     "text": [
      "100%|██████████| 72/72 [00:06<00:00, 10.89it/s]\n"
     ]
    },
    {
     "name": "stdout",
     "output_type": "stream",
     "text": [
      "valid Loss: 1.2667 mIoU: 0.8341\n",
      "\n",
      "Epoch 12/30\n",
      "----------\n"
     ]
    },
    {
     "name": "stderr",
     "output_type": "stream",
     "text": [
      "100%|██████████| 465/465 [01:35<00:00,  4.85it/s]\n"
     ]
    },
    {
     "name": "stdout",
     "output_type": "stream",
     "text": [
      "train Loss: 0.6959 mIoU: 0.9295\n"
     ]
    },
    {
     "name": "stderr",
     "output_type": "stream",
     "text": [
      "100%|██████████| 72/72 [00:06<00:00, 10.88it/s]\n"
     ]
    },
    {
     "name": "stdout",
     "output_type": "stream",
     "text": [
      "valid Loss: 1.2659 mIoU: 0.8288\n",
      "\n",
      "Epoch 13/30\n",
      "----------\n"
     ]
    },
    {
     "name": "stderr",
     "output_type": "stream",
     "text": [
      "100%|██████████| 465/465 [01:36<00:00,  4.84it/s]\n"
     ]
    },
    {
     "name": "stdout",
     "output_type": "stream",
     "text": [
      "train Loss: 0.6753 mIoU: 0.9355\n"
     ]
    },
    {
     "name": "stderr",
     "output_type": "stream",
     "text": [
      "100%|██████████| 72/72 [00:06<00:00, 10.71it/s]\n"
     ]
    },
    {
     "name": "stdout",
     "output_type": "stream",
     "text": [
      "valid Loss: 1.1197 mIoU: 0.8310\n",
      "\n",
      "Epoch 14/30\n",
      "----------\n"
     ]
    },
    {
     "name": "stderr",
     "output_type": "stream",
     "text": [
      "100%|██████████| 465/465 [01:35<00:00,  4.87it/s]\n"
     ]
    },
    {
     "name": "stdout",
     "output_type": "stream",
     "text": [
      "train Loss: 0.6269 mIoU: 0.9479\n"
     ]
    },
    {
     "name": "stderr",
     "output_type": "stream",
     "text": [
      "100%|██████████| 72/72 [00:06<00:00, 10.91it/s]\n"
     ]
    },
    {
     "name": "stdout",
     "output_type": "stream",
     "text": [
      "valid Loss: 1.2943 mIoU: 0.8317\n",
      "\n",
      "Epoch 15/30\n",
      "----------\n"
     ]
    },
    {
     "name": "stderr",
     "output_type": "stream",
     "text": [
      "100%|██████████| 465/465 [01:35<00:00,  4.89it/s]\n"
     ]
    },
    {
     "name": "stdout",
     "output_type": "stream",
     "text": [
      "train Loss: 0.6167 mIoU: 0.9486\n"
     ]
    },
    {
     "name": "stderr",
     "output_type": "stream",
     "text": [
      "100%|██████████| 72/72 [00:06<00:00, 10.77it/s]\n"
     ]
    },
    {
     "name": "stdout",
     "output_type": "stream",
     "text": [
      "valid Loss: 1.2206 mIoU: 0.8364\n",
      "\n",
      "Epoch 16/30\n",
      "----------\n"
     ]
    },
    {
     "name": "stderr",
     "output_type": "stream",
     "text": [
      "100%|██████████| 465/465 [01:39<00:00,  4.66it/s]\n"
     ]
    },
    {
     "name": "stdout",
     "output_type": "stream",
     "text": [
      "train Loss: 0.5928 mIoU: 0.9569\n"
     ]
    },
    {
     "name": "stderr",
     "output_type": "stream",
     "text": [
      "100%|██████████| 72/72 [00:06<00:00, 10.75it/s]\n"
     ]
    },
    {
     "name": "stdout",
     "output_type": "stream",
     "text": [
      "valid Loss: 1.3009 mIoU: 0.8339\n",
      "\n",
      "Epoch 17/30\n",
      "----------\n"
     ]
    },
    {
     "name": "stderr",
     "output_type": "stream",
     "text": [
      "100%|██████████| 465/465 [01:35<00:00,  4.86it/s]\n"
     ]
    },
    {
     "name": "stdout",
     "output_type": "stream",
     "text": [
      "train Loss: 0.5652 mIoU: 0.9605\n"
     ]
    },
    {
     "name": "stderr",
     "output_type": "stream",
     "text": [
      "100%|██████████| 72/72 [00:06<00:00, 10.75it/s]\n"
     ]
    },
    {
     "name": "stdout",
     "output_type": "stream",
     "text": [
      "valid Loss: 1.3302 mIoU: 0.8249\n",
      "\n",
      "Epoch 18/30\n",
      "----------\n"
     ]
    },
    {
     "name": "stderr",
     "output_type": "stream",
     "text": [
      "100%|██████████| 465/465 [01:37<00:00,  4.76it/s]\n"
     ]
    },
    {
     "name": "stdout",
     "output_type": "stream",
     "text": [
      "train Loss: 0.5669 mIoU: 0.9607\n"
     ]
    },
    {
     "name": "stderr",
     "output_type": "stream",
     "text": [
      "100%|██████████| 72/72 [00:06<00:00, 10.74it/s]\n"
     ]
    },
    {
     "name": "stdout",
     "output_type": "stream",
     "text": [
      "valid Loss: 1.4893 mIoU: 0.8186\n",
      "\n",
      "Epoch 19/30\n",
      "----------\n"
     ]
    },
    {
     "name": "stderr",
     "output_type": "stream",
     "text": [
      "100%|██████████| 465/465 [01:35<00:00,  4.88it/s]\n"
     ]
    },
    {
     "name": "stdout",
     "output_type": "stream",
     "text": [
      "train Loss: 0.5581 mIoU: 0.9621\n"
     ]
    },
    {
     "name": "stderr",
     "output_type": "stream",
     "text": [
      "100%|██████████| 72/72 [00:06<00:00, 10.79it/s]\n"
     ]
    },
    {
     "name": "stdout",
     "output_type": "stream",
     "text": [
      "valid Loss: 1.2283 mIoU: 0.8117\n",
      "\n",
      "Epoch 20/30\n",
      "----------\n"
     ]
    },
    {
     "name": "stderr",
     "output_type": "stream",
     "text": [
      "100%|██████████| 465/465 [01:36<00:00,  4.84it/s]\n"
     ]
    },
    {
     "name": "stdout",
     "output_type": "stream",
     "text": [
      "train Loss: 0.5339 mIoU: 0.9683\n"
     ]
    },
    {
     "name": "stderr",
     "output_type": "stream",
     "text": [
      "100%|██████████| 72/72 [00:07<00:00, 10.27it/s]\n"
     ]
    },
    {
     "name": "stdout",
     "output_type": "stream",
     "text": [
      "valid Loss: 1.2862 mIoU: 0.8188\n",
      "\n",
      "Epoch 21/30\n",
      "----------\n"
     ]
    },
    {
     "name": "stderr",
     "output_type": "stream",
     "text": [
      "100%|██████████| 465/465 [01:47<00:00,  4.31it/s]\n"
     ]
    },
    {
     "name": "stdout",
     "output_type": "stream",
     "text": [
      "train Loss: 0.5474 mIoU: 0.9591\n"
     ]
    },
    {
     "name": "stderr",
     "output_type": "stream",
     "text": [
      "100%|██████████| 72/72 [00:12<00:00,  5.66it/s]\n"
     ]
    },
    {
     "name": "stdout",
     "output_type": "stream",
     "text": [
      "valid Loss: 1.2694 mIoU: 0.8266\n",
      "\n",
      "Epoch 22/30\n",
      "----------\n"
     ]
    },
    {
     "name": "stderr",
     "output_type": "stream",
     "text": [
      "100%|██████████| 465/465 [01:57<00:00,  3.95it/s]\n"
     ]
    },
    {
     "name": "stdout",
     "output_type": "stream",
     "text": [
      "train Loss: 0.5307 mIoU: 0.9637\n"
     ]
    },
    {
     "name": "stderr",
     "output_type": "stream",
     "text": [
      "100%|██████████| 72/72 [00:06<00:00, 11.01it/s]\n"
     ]
    },
    {
     "name": "stdout",
     "output_type": "stream",
     "text": [
      "valid Loss: 1.1829 mIoU: 0.8104\n",
      "\n",
      "Epoch 23/30\n",
      "----------\n"
     ]
    },
    {
     "name": "stderr",
     "output_type": "stream",
     "text": [
      "100%|██████████| 465/465 [01:34<00:00,  4.92it/s]\n"
     ]
    },
    {
     "name": "stdout",
     "output_type": "stream",
     "text": [
      "train Loss: 0.5104 mIoU: 0.9707\n"
     ]
    },
    {
     "name": "stderr",
     "output_type": "stream",
     "text": [
      "100%|██████████| 72/72 [00:06<00:00, 10.82it/s]\n"
     ]
    },
    {
     "name": "stdout",
     "output_type": "stream",
     "text": [
      "valid Loss: 1.4142 mIoU: 0.8157\n",
      "\n",
      "Epoch 24/30\n",
      "----------\n"
     ]
    },
    {
     "name": "stderr",
     "output_type": "stream",
     "text": [
      "100%|██████████| 465/465 [01:35<00:00,  4.86it/s]\n"
     ]
    },
    {
     "name": "stdout",
     "output_type": "stream",
     "text": [
      "train Loss: 0.4963 mIoU: 0.9751\n"
     ]
    },
    {
     "name": "stderr",
     "output_type": "stream",
     "text": [
      "100%|██████████| 72/72 [00:06<00:00, 10.85it/s]\n"
     ]
    },
    {
     "name": "stdout",
     "output_type": "stream",
     "text": [
      "valid Loss: 1.3334 mIoU: 0.8247\n",
      "\n",
      "Epoch 25/30\n",
      "----------\n"
     ]
    },
    {
     "name": "stderr",
     "output_type": "stream",
     "text": [
      "100%|██████████| 465/465 [01:35<00:00,  4.87it/s]\n"
     ]
    },
    {
     "name": "stdout",
     "output_type": "stream",
     "text": [
      "train Loss: 0.4783 mIoU: 0.9775\n"
     ]
    },
    {
     "name": "stderr",
     "output_type": "stream",
     "text": [
      "100%|██████████| 72/72 [00:06<00:00, 10.89it/s]\n"
     ]
    },
    {
     "name": "stdout",
     "output_type": "stream",
     "text": [
      "valid Loss: 1.3010 mIoU: 0.8261\n",
      "\n",
      "Epoch 26/30\n",
      "----------\n"
     ]
    },
    {
     "name": "stderr",
     "output_type": "stream",
     "text": [
      "100%|██████████| 465/465 [01:35<00:00,  4.89it/s]\n"
     ]
    },
    {
     "name": "stdout",
     "output_type": "stream",
     "text": [
      "train Loss: 0.4744 mIoU: 0.9770\n"
     ]
    },
    {
     "name": "stderr",
     "output_type": "stream",
     "text": [
      "100%|██████████| 72/72 [00:06<00:00, 10.68it/s]\n"
     ]
    },
    {
     "name": "stdout",
     "output_type": "stream",
     "text": [
      "valid Loss: 1.3819 mIoU: 0.8366\n",
      "\n",
      "Epoch 27/30\n",
      "----------\n"
     ]
    },
    {
     "name": "stderr",
     "output_type": "stream",
     "text": [
      "100%|██████████| 465/465 [01:35<00:00,  4.87it/s]\n"
     ]
    },
    {
     "name": "stdout",
     "output_type": "stream",
     "text": [
      "train Loss: 0.5108 mIoU: 0.9677\n"
     ]
    },
    {
     "name": "stderr",
     "output_type": "stream",
     "text": [
      "100%|██████████| 72/72 [00:06<00:00, 10.84it/s]\n"
     ]
    },
    {
     "name": "stdout",
     "output_type": "stream",
     "text": [
      "valid Loss: 1.2947 mIoU: 0.8350\n",
      "\n",
      "Epoch 28/30\n",
      "----------\n"
     ]
    },
    {
     "name": "stderr",
     "output_type": "stream",
     "text": [
      "100%|██████████| 465/465 [01:40<00:00,  4.62it/s]\n"
     ]
    },
    {
     "name": "stdout",
     "output_type": "stream",
     "text": [
      "train Loss: 0.4755 mIoU: 0.9772\n"
     ]
    },
    {
     "name": "stderr",
     "output_type": "stream",
     "text": [
      "100%|██████████| 72/72 [00:06<00:00, 10.67it/s]\n"
     ]
    },
    {
     "name": "stdout",
     "output_type": "stream",
     "text": [
      "valid Loss: 1.2331 mIoU: 0.8355\n",
      "\n",
      "Epoch 29/30\n",
      "----------\n"
     ]
    },
    {
     "name": "stderr",
     "output_type": "stream",
     "text": [
      "100%|██████████| 465/465 [01:36<00:00,  4.81it/s]\n"
     ]
    },
    {
     "name": "stdout",
     "output_type": "stream",
     "text": [
      "train Loss: 0.4717 mIoU: 0.9770\n"
     ]
    },
    {
     "name": "stderr",
     "output_type": "stream",
     "text": [
      "100%|██████████| 72/72 [00:07<00:00, 10.21it/s]\n"
     ]
    },
    {
     "name": "stdout",
     "output_type": "stream",
     "text": [
      "valid Loss: 1.4115 mIoU: 0.8304\n",
      "\n",
      "Epoch 30/30\n",
      "----------\n"
     ]
    },
    {
     "name": "stderr",
     "output_type": "stream",
     "text": [
      "100%|██████████| 465/465 [01:37<00:00,  4.76it/s]\n"
     ]
    },
    {
     "name": "stdout",
     "output_type": "stream",
     "text": [
      "train Loss: 0.4675 mIoU: 0.9768\n"
     ]
    },
    {
     "name": "stderr",
     "output_type": "stream",
     "text": [
      "100%|██████████| 72/72 [00:07<00:00, 10.14it/s]"
     ]
    },
    {
     "name": "stdout",
     "output_type": "stream",
     "text": [
      "valid Loss: 1.3802 mIoU: 0.8181\n",
      "\n",
      "Training complete in 52m 16s\n",
      "Best val mean IoU: 0.837854\n"
     ]
    },
    {
     "name": "stderr",
     "output_type": "stream",
     "text": [
      "\n"
     ]
    },
    {
     "data": {
      "text/plain": [
       "(DeepLabWrapper(\n",
       "   (model): DeepLabV3(\n",
       "     (backbone): IntermediateLayerGetter(\n",
       "       (0): ConvNormActivation(\n",
       "         (0): Conv2d(3, 16, kernel_size=(3, 3), stride=(2, 2), padding=(1, 1), bias=False)\n",
       "         (1): BatchNorm2d(16, eps=0.001, momentum=0.01, affine=True, track_running_stats=True)\n",
       "         (2): Hardswish()\n",
       "       )\n",
       "       (1): InvertedResidual(\n",
       "         (block): Sequential(\n",
       "           (0): ConvNormActivation(\n",
       "             (0): Conv2d(16, 16, kernel_size=(3, 3), stride=(1, 1), padding=(1, 1), groups=16, bias=False)\n",
       "             (1): BatchNorm2d(16, eps=0.001, momentum=0.01, affine=True, track_running_stats=True)\n",
       "             (2): ReLU(inplace=True)\n",
       "           )\n",
       "           (1): ConvNormActivation(\n",
       "             (0): Conv2d(16, 16, kernel_size=(1, 1), stride=(1, 1), bias=False)\n",
       "             (1): BatchNorm2d(16, eps=0.001, momentum=0.01, affine=True, track_running_stats=True)\n",
       "           )\n",
       "         )\n",
       "       )\n",
       "       (2): InvertedResidual(\n",
       "         (block): Sequential(\n",
       "           (0): ConvNormActivation(\n",
       "             (0): Conv2d(16, 64, kernel_size=(1, 1), stride=(1, 1), bias=False)\n",
       "             (1): BatchNorm2d(64, eps=0.001, momentum=0.01, affine=True, track_running_stats=True)\n",
       "             (2): ReLU(inplace=True)\n",
       "           )\n",
       "           (1): ConvNormActivation(\n",
       "             (0): Conv2d(64, 64, kernel_size=(3, 3), stride=(2, 2), padding=(1, 1), groups=64, bias=False)\n",
       "             (1): BatchNorm2d(64, eps=0.001, momentum=0.01, affine=True, track_running_stats=True)\n",
       "             (2): ReLU(inplace=True)\n",
       "           )\n",
       "           (2): ConvNormActivation(\n",
       "             (0): Conv2d(64, 24, kernel_size=(1, 1), stride=(1, 1), bias=False)\n",
       "             (1): BatchNorm2d(24, eps=0.001, momentum=0.01, affine=True, track_running_stats=True)\n",
       "           )\n",
       "         )\n",
       "       )\n",
       "       (3): InvertedResidual(\n",
       "         (block): Sequential(\n",
       "           (0): ConvNormActivation(\n",
       "             (0): Conv2d(24, 72, kernel_size=(1, 1), stride=(1, 1), bias=False)\n",
       "             (1): BatchNorm2d(72, eps=0.001, momentum=0.01, affine=True, track_running_stats=True)\n",
       "             (2): ReLU(inplace=True)\n",
       "           )\n",
       "           (1): ConvNormActivation(\n",
       "             (0): Conv2d(72, 72, kernel_size=(3, 3), stride=(1, 1), padding=(1, 1), groups=72, bias=False)\n",
       "             (1): BatchNorm2d(72, eps=0.001, momentum=0.01, affine=True, track_running_stats=True)\n",
       "             (2): ReLU(inplace=True)\n",
       "           )\n",
       "           (2): ConvNormActivation(\n",
       "             (0): Conv2d(72, 24, kernel_size=(1, 1), stride=(1, 1), bias=False)\n",
       "             (1): BatchNorm2d(24, eps=0.001, momentum=0.01, affine=True, track_running_stats=True)\n",
       "           )\n",
       "         )\n",
       "       )\n",
       "       (4): InvertedResidual(\n",
       "         (block): Sequential(\n",
       "           (0): ConvNormActivation(\n",
       "             (0): Conv2d(24, 72, kernel_size=(1, 1), stride=(1, 1), bias=False)\n",
       "             (1): BatchNorm2d(72, eps=0.001, momentum=0.01, affine=True, track_running_stats=True)\n",
       "             (2): ReLU(inplace=True)\n",
       "           )\n",
       "           (1): ConvNormActivation(\n",
       "             (0): Conv2d(72, 72, kernel_size=(5, 5), stride=(2, 2), padding=(2, 2), groups=72, bias=False)\n",
       "             (1): BatchNorm2d(72, eps=0.001, momentum=0.01, affine=True, track_running_stats=True)\n",
       "             (2): ReLU(inplace=True)\n",
       "           )\n",
       "           (2): SqueezeExcitation(\n",
       "             (avgpool): AdaptiveAvgPool2d(output_size=1)\n",
       "             (fc1): Conv2d(72, 24, kernel_size=(1, 1), stride=(1, 1))\n",
       "             (fc2): Conv2d(24, 72, kernel_size=(1, 1), stride=(1, 1))\n",
       "             (activation): ReLU()\n",
       "             (scale_activation): Hardsigmoid()\n",
       "           )\n",
       "           (3): ConvNormActivation(\n",
       "             (0): Conv2d(72, 40, kernel_size=(1, 1), stride=(1, 1), bias=False)\n",
       "             (1): BatchNorm2d(40, eps=0.001, momentum=0.01, affine=True, track_running_stats=True)\n",
       "           )\n",
       "         )\n",
       "       )\n",
       "       (5): InvertedResidual(\n",
       "         (block): Sequential(\n",
       "           (0): ConvNormActivation(\n",
       "             (0): Conv2d(40, 120, kernel_size=(1, 1), stride=(1, 1), bias=False)\n",
       "             (1): BatchNorm2d(120, eps=0.001, momentum=0.01, affine=True, track_running_stats=True)\n",
       "             (2): ReLU(inplace=True)\n",
       "           )\n",
       "           (1): ConvNormActivation(\n",
       "             (0): Conv2d(120, 120, kernel_size=(5, 5), stride=(1, 1), padding=(2, 2), groups=120, bias=False)\n",
       "             (1): BatchNorm2d(120, eps=0.001, momentum=0.01, affine=True, track_running_stats=True)\n",
       "             (2): ReLU(inplace=True)\n",
       "           )\n",
       "           (2): SqueezeExcitation(\n",
       "             (avgpool): AdaptiveAvgPool2d(output_size=1)\n",
       "             (fc1): Conv2d(120, 32, kernel_size=(1, 1), stride=(1, 1))\n",
       "             (fc2): Conv2d(32, 120, kernel_size=(1, 1), stride=(1, 1))\n",
       "             (activation): ReLU()\n",
       "             (scale_activation): Hardsigmoid()\n",
       "           )\n",
       "           (3): ConvNormActivation(\n",
       "             (0): Conv2d(120, 40, kernel_size=(1, 1), stride=(1, 1), bias=False)\n",
       "             (1): BatchNorm2d(40, eps=0.001, momentum=0.01, affine=True, track_running_stats=True)\n",
       "           )\n",
       "         )\n",
       "       )\n",
       "       (6): InvertedResidual(\n",
       "         (block): Sequential(\n",
       "           (0): ConvNormActivation(\n",
       "             (0): Conv2d(40, 120, kernel_size=(1, 1), stride=(1, 1), bias=False)\n",
       "             (1): BatchNorm2d(120, eps=0.001, momentum=0.01, affine=True, track_running_stats=True)\n",
       "             (2): ReLU(inplace=True)\n",
       "           )\n",
       "           (1): ConvNormActivation(\n",
       "             (0): Conv2d(120, 120, kernel_size=(5, 5), stride=(1, 1), padding=(2, 2), groups=120, bias=False)\n",
       "             (1): BatchNorm2d(120, eps=0.001, momentum=0.01, affine=True, track_running_stats=True)\n",
       "             (2): ReLU(inplace=True)\n",
       "           )\n",
       "           (2): SqueezeExcitation(\n",
       "             (avgpool): AdaptiveAvgPool2d(output_size=1)\n",
       "             (fc1): Conv2d(120, 32, kernel_size=(1, 1), stride=(1, 1))\n",
       "             (fc2): Conv2d(32, 120, kernel_size=(1, 1), stride=(1, 1))\n",
       "             (activation): ReLU()\n",
       "             (scale_activation): Hardsigmoid()\n",
       "           )\n",
       "           (3): ConvNormActivation(\n",
       "             (0): Conv2d(120, 40, kernel_size=(1, 1), stride=(1, 1), bias=False)\n",
       "             (1): BatchNorm2d(40, eps=0.001, momentum=0.01, affine=True, track_running_stats=True)\n",
       "           )\n",
       "         )\n",
       "       )\n",
       "       (7): InvertedResidual(\n",
       "         (block): Sequential(\n",
       "           (0): ConvNormActivation(\n",
       "             (0): Conv2d(40, 240, kernel_size=(1, 1), stride=(1, 1), bias=False)\n",
       "             (1): BatchNorm2d(240, eps=0.001, momentum=0.01, affine=True, track_running_stats=True)\n",
       "             (2): Hardswish()\n",
       "           )\n",
       "           (1): ConvNormActivation(\n",
       "             (0): Conv2d(240, 240, kernel_size=(3, 3), stride=(2, 2), padding=(1, 1), groups=240, bias=False)\n",
       "             (1): BatchNorm2d(240, eps=0.001, momentum=0.01, affine=True, track_running_stats=True)\n",
       "             (2): Hardswish()\n",
       "           )\n",
       "           (2): ConvNormActivation(\n",
       "             (0): Conv2d(240, 80, kernel_size=(1, 1), stride=(1, 1), bias=False)\n",
       "             (1): BatchNorm2d(80, eps=0.001, momentum=0.01, affine=True, track_running_stats=True)\n",
       "           )\n",
       "         )\n",
       "       )\n",
       "       (8): InvertedResidual(\n",
       "         (block): Sequential(\n",
       "           (0): ConvNormActivation(\n",
       "             (0): Conv2d(80, 200, kernel_size=(1, 1), stride=(1, 1), bias=False)\n",
       "             (1): BatchNorm2d(200, eps=0.001, momentum=0.01, affine=True, track_running_stats=True)\n",
       "             (2): Hardswish()\n",
       "           )\n",
       "           (1): ConvNormActivation(\n",
       "             (0): Conv2d(200, 200, kernel_size=(3, 3), stride=(1, 1), padding=(1, 1), groups=200, bias=False)\n",
       "             (1): BatchNorm2d(200, eps=0.001, momentum=0.01, affine=True, track_running_stats=True)\n",
       "             (2): Hardswish()\n",
       "           )\n",
       "           (2): ConvNormActivation(\n",
       "             (0): Conv2d(200, 80, kernel_size=(1, 1), stride=(1, 1), bias=False)\n",
       "             (1): BatchNorm2d(80, eps=0.001, momentum=0.01, affine=True, track_running_stats=True)\n",
       "           )\n",
       "         )\n",
       "       )\n",
       "       (9): InvertedResidual(\n",
       "         (block): Sequential(\n",
       "           (0): ConvNormActivation(\n",
       "             (0): Conv2d(80, 184, kernel_size=(1, 1), stride=(1, 1), bias=False)\n",
       "             (1): BatchNorm2d(184, eps=0.001, momentum=0.01, affine=True, track_running_stats=True)\n",
       "             (2): Hardswish()\n",
       "           )\n",
       "           (1): ConvNormActivation(\n",
       "             (0): Conv2d(184, 184, kernel_size=(3, 3), stride=(1, 1), padding=(1, 1), groups=184, bias=False)\n",
       "             (1): BatchNorm2d(184, eps=0.001, momentum=0.01, affine=True, track_running_stats=True)\n",
       "             (2): Hardswish()\n",
       "           )\n",
       "           (2): ConvNormActivation(\n",
       "             (0): Conv2d(184, 80, kernel_size=(1, 1), stride=(1, 1), bias=False)\n",
       "             (1): BatchNorm2d(80, eps=0.001, momentum=0.01, affine=True, track_running_stats=True)\n",
       "           )\n",
       "         )\n",
       "       )\n",
       "       (10): InvertedResidual(\n",
       "         (block): Sequential(\n",
       "           (0): ConvNormActivation(\n",
       "             (0): Conv2d(80, 184, kernel_size=(1, 1), stride=(1, 1), bias=False)\n",
       "             (1): BatchNorm2d(184, eps=0.001, momentum=0.01, affine=True, track_running_stats=True)\n",
       "             (2): Hardswish()\n",
       "           )\n",
       "           (1): ConvNormActivation(\n",
       "             (0): Conv2d(184, 184, kernel_size=(3, 3), stride=(1, 1), padding=(1, 1), groups=184, bias=False)\n",
       "             (1): BatchNorm2d(184, eps=0.001, momentum=0.01, affine=True, track_running_stats=True)\n",
       "             (2): Hardswish()\n",
       "           )\n",
       "           (2): ConvNormActivation(\n",
       "             (0): Conv2d(184, 80, kernel_size=(1, 1), stride=(1, 1), bias=False)\n",
       "             (1): BatchNorm2d(80, eps=0.001, momentum=0.01, affine=True, track_running_stats=True)\n",
       "           )\n",
       "         )\n",
       "       )\n",
       "       (11): InvertedResidual(\n",
       "         (block): Sequential(\n",
       "           (0): ConvNormActivation(\n",
       "             (0): Conv2d(80, 480, kernel_size=(1, 1), stride=(1, 1), bias=False)\n",
       "             (1): BatchNorm2d(480, eps=0.001, momentum=0.01, affine=True, track_running_stats=True)\n",
       "             (2): Hardswish()\n",
       "           )\n",
       "           (1): ConvNormActivation(\n",
       "             (0): Conv2d(480, 480, kernel_size=(3, 3), stride=(1, 1), padding=(1, 1), groups=480, bias=False)\n",
       "             (1): BatchNorm2d(480, eps=0.001, momentum=0.01, affine=True, track_running_stats=True)\n",
       "             (2): Hardswish()\n",
       "           )\n",
       "           (2): SqueezeExcitation(\n",
       "             (avgpool): AdaptiveAvgPool2d(output_size=1)\n",
       "             (fc1): Conv2d(480, 120, kernel_size=(1, 1), stride=(1, 1))\n",
       "             (fc2): Conv2d(120, 480, kernel_size=(1, 1), stride=(1, 1))\n",
       "             (activation): ReLU()\n",
       "             (scale_activation): Hardsigmoid()\n",
       "           )\n",
       "           (3): ConvNormActivation(\n",
       "             (0): Conv2d(480, 112, kernel_size=(1, 1), stride=(1, 1), bias=False)\n",
       "             (1): BatchNorm2d(112, eps=0.001, momentum=0.01, affine=True, track_running_stats=True)\n",
       "           )\n",
       "         )\n",
       "       )\n",
       "       (12): InvertedResidual(\n",
       "         (block): Sequential(\n",
       "           (0): ConvNormActivation(\n",
       "             (0): Conv2d(112, 672, kernel_size=(1, 1), stride=(1, 1), bias=False)\n",
       "             (1): BatchNorm2d(672, eps=0.001, momentum=0.01, affine=True, track_running_stats=True)\n",
       "             (2): Hardswish()\n",
       "           )\n",
       "           (1): ConvNormActivation(\n",
       "             (0): Conv2d(672, 672, kernel_size=(3, 3), stride=(1, 1), padding=(1, 1), groups=672, bias=False)\n",
       "             (1): BatchNorm2d(672, eps=0.001, momentum=0.01, affine=True, track_running_stats=True)\n",
       "             (2): Hardswish()\n",
       "           )\n",
       "           (2): SqueezeExcitation(\n",
       "             (avgpool): AdaptiveAvgPool2d(output_size=1)\n",
       "             (fc1): Conv2d(672, 168, kernel_size=(1, 1), stride=(1, 1))\n",
       "             (fc2): Conv2d(168, 672, kernel_size=(1, 1), stride=(1, 1))\n",
       "             (activation): ReLU()\n",
       "             (scale_activation): Hardsigmoid()\n",
       "           )\n",
       "           (3): ConvNormActivation(\n",
       "             (0): Conv2d(672, 112, kernel_size=(1, 1), stride=(1, 1), bias=False)\n",
       "             (1): BatchNorm2d(112, eps=0.001, momentum=0.01, affine=True, track_running_stats=True)\n",
       "           )\n",
       "         )\n",
       "       )\n",
       "       (13): InvertedResidual(\n",
       "         (block): Sequential(\n",
       "           (0): ConvNormActivation(\n",
       "             (0): Conv2d(112, 672, kernel_size=(1, 1), stride=(1, 1), bias=False)\n",
       "             (1): BatchNorm2d(672, eps=0.001, momentum=0.01, affine=True, track_running_stats=True)\n",
       "             (2): Hardswish()\n",
       "           )\n",
       "           (1): ConvNormActivation(\n",
       "             (0): Conv2d(672, 672, kernel_size=(5, 5), stride=(1, 1), padding=(4, 4), dilation=(2, 2), groups=672, bias=False)\n",
       "             (1): BatchNorm2d(672, eps=0.001, momentum=0.01, affine=True, track_running_stats=True)\n",
       "             (2): Hardswish()\n",
       "           )\n",
       "           (2): SqueezeExcitation(\n",
       "             (avgpool): AdaptiveAvgPool2d(output_size=1)\n",
       "             (fc1): Conv2d(672, 168, kernel_size=(1, 1), stride=(1, 1))\n",
       "             (fc2): Conv2d(168, 672, kernel_size=(1, 1), stride=(1, 1))\n",
       "             (activation): ReLU()\n",
       "             (scale_activation): Hardsigmoid()\n",
       "           )\n",
       "           (3): ConvNormActivation(\n",
       "             (0): Conv2d(672, 160, kernel_size=(1, 1), stride=(1, 1), bias=False)\n",
       "             (1): BatchNorm2d(160, eps=0.001, momentum=0.01, affine=True, track_running_stats=True)\n",
       "           )\n",
       "         )\n",
       "       )\n",
       "       (14): InvertedResidual(\n",
       "         (block): Sequential(\n",
       "           (0): ConvNormActivation(\n",
       "             (0): Conv2d(160, 960, kernel_size=(1, 1), stride=(1, 1), bias=False)\n",
       "             (1): BatchNorm2d(960, eps=0.001, momentum=0.01, affine=True, track_running_stats=True)\n",
       "             (2): Hardswish()\n",
       "           )\n",
       "           (1): ConvNormActivation(\n",
       "             (0): Conv2d(960, 960, kernel_size=(5, 5), stride=(1, 1), padding=(4, 4), dilation=(2, 2), groups=960, bias=False)\n",
       "             (1): BatchNorm2d(960, eps=0.001, momentum=0.01, affine=True, track_running_stats=True)\n",
       "             (2): Hardswish()\n",
       "           )\n",
       "           (2): SqueezeExcitation(\n",
       "             (avgpool): AdaptiveAvgPool2d(output_size=1)\n",
       "             (fc1): Conv2d(960, 240, kernel_size=(1, 1), stride=(1, 1))\n",
       "             (fc2): Conv2d(240, 960, kernel_size=(1, 1), stride=(1, 1))\n",
       "             (activation): ReLU()\n",
       "             (scale_activation): Hardsigmoid()\n",
       "           )\n",
       "           (3): ConvNormActivation(\n",
       "             (0): Conv2d(960, 160, kernel_size=(1, 1), stride=(1, 1), bias=False)\n",
       "             (1): BatchNorm2d(160, eps=0.001, momentum=0.01, affine=True, track_running_stats=True)\n",
       "           )\n",
       "         )\n",
       "       )\n",
       "       (15): InvertedResidual(\n",
       "         (block): Sequential(\n",
       "           (0): ConvNormActivation(\n",
       "             (0): Conv2d(160, 960, kernel_size=(1, 1), stride=(1, 1), bias=False)\n",
       "             (1): BatchNorm2d(960, eps=0.001, momentum=0.01, affine=True, track_running_stats=True)\n",
       "             (2): Hardswish()\n",
       "           )\n",
       "           (1): ConvNormActivation(\n",
       "             (0): Conv2d(960, 960, kernel_size=(5, 5), stride=(1, 1), padding=(4, 4), dilation=(2, 2), groups=960, bias=False)\n",
       "             (1): BatchNorm2d(960, eps=0.001, momentum=0.01, affine=True, track_running_stats=True)\n",
       "             (2): Hardswish()\n",
       "           )\n",
       "           (2): SqueezeExcitation(\n",
       "             (avgpool): AdaptiveAvgPool2d(output_size=1)\n",
       "             (fc1): Conv2d(960, 240, kernel_size=(1, 1), stride=(1, 1))\n",
       "             (fc2): Conv2d(240, 960, kernel_size=(1, 1), stride=(1, 1))\n",
       "             (activation): ReLU()\n",
       "             (scale_activation): Hardsigmoid()\n",
       "           )\n",
       "           (3): ConvNormActivation(\n",
       "             (0): Conv2d(960, 160, kernel_size=(1, 1), stride=(1, 1), bias=False)\n",
       "             (1): BatchNorm2d(160, eps=0.001, momentum=0.01, affine=True, track_running_stats=True)\n",
       "           )\n",
       "         )\n",
       "       )\n",
       "       (16): ConvNormActivation(\n",
       "         (0): Conv2d(160, 960, kernel_size=(1, 1), stride=(1, 1), bias=False)\n",
       "         (1): BatchNorm2d(960, eps=0.001, momentum=0.01, affine=True, track_running_stats=True)\n",
       "         (2): Hardswish()\n",
       "       )\n",
       "     )\n",
       "     (classifier): DeepLabHead(\n",
       "       (0): ASPP(\n",
       "         (convs): ModuleList(\n",
       "           (0): Sequential(\n",
       "             (0): Conv2d(960, 256, kernel_size=(1, 1), stride=(1, 1), bias=False)\n",
       "             (1): BatchNorm2d(256, eps=1e-05, momentum=0.1, affine=True, track_running_stats=True)\n",
       "             (2): ReLU()\n",
       "           )\n",
       "           (1): ASPPConv(\n",
       "             (0): Conv2d(960, 256, kernel_size=(3, 3), stride=(1, 1), padding=(12, 12), dilation=(12, 12), bias=False)\n",
       "             (1): BatchNorm2d(256, eps=1e-05, momentum=0.1, affine=True, track_running_stats=True)\n",
       "             (2): ReLU()\n",
       "           )\n",
       "           (2): ASPPConv(\n",
       "             (0): Conv2d(960, 256, kernel_size=(3, 3), stride=(1, 1), padding=(24, 24), dilation=(24, 24), bias=False)\n",
       "             (1): BatchNorm2d(256, eps=1e-05, momentum=0.1, affine=True, track_running_stats=True)\n",
       "             (2): ReLU()\n",
       "           )\n",
       "           (3): ASPPConv(\n",
       "             (0): Conv2d(960, 256, kernel_size=(3, 3), stride=(1, 1), padding=(36, 36), dilation=(36, 36), bias=False)\n",
       "             (1): BatchNorm2d(256, eps=1e-05, momentum=0.1, affine=True, track_running_stats=True)\n",
       "             (2): ReLU()\n",
       "           )\n",
       "           (4): ASPPPooling(\n",
       "             (0): AdaptiveAvgPool2d(output_size=1)\n",
       "             (1): Conv2d(960, 256, kernel_size=(1, 1), stride=(1, 1), bias=False)\n",
       "             (2): BatchNorm2d(256, eps=1e-05, momentum=0.1, affine=True, track_running_stats=True)\n",
       "             (3): ReLU()\n",
       "           )\n",
       "         )\n",
       "         (project): Sequential(\n",
       "           (0): Conv2d(1280, 256, kernel_size=(1, 1), stride=(1, 1), bias=False)\n",
       "           (1): BatchNorm2d(256, eps=1e-05, momentum=0.1, affine=True, track_running_stats=True)\n",
       "           (2): ReLU()\n",
       "           (3): Dropout(p=0.5, inplace=False)\n",
       "         )\n",
       "       )\n",
       "       (1): Conv2d(256, 256, kernel_size=(3, 3), stride=(1, 1), padding=(1, 1), bias=False)\n",
       "       (2): BatchNorm2d(256, eps=1e-05, momentum=0.1, affine=True, track_running_stats=True)\n",
       "       (3): ReLU()\n",
       "       (4): Conv2d(256, 8, kernel_size=(1, 1), stride=(1, 1))\n",
       "     )\n",
       "     (aux_classifier): FCNHead(\n",
       "       (0): Conv2d(40, 10, kernel_size=(3, 3), stride=(1, 1), padding=(1, 1), bias=False)\n",
       "       (1): BatchNorm2d(10, eps=1e-05, momentum=0.1, affine=True, track_running_stats=True)\n",
       "       (2): ReLU()\n",
       "       (3): Dropout(p=0.1, inplace=False)\n",
       "       (4): Conv2d(10, 21, kernel_size=(1, 1), stride=(1, 1))\n",
       "     )\n",
       "   )\n",
       " ),\n",
       " [0.8242302172713809,\n",
       "  0.8042295571002696,\n",
       "  0.8213034959303008,\n",
       "  0.823483487798108,\n",
       "  0.8244144643346468,\n",
       "  0.830915647248427,\n",
       "  0.8246785091857115,\n",
       "  0.8257325001888804,\n",
       "  0.8378537115123537,\n",
       "  0.8286898425883718,\n",
       "  0.8340906028946241,\n",
       "  0.8287694942620065,\n",
       "  0.8310406559871303,\n",
       "  0.8317495948738522,\n",
       "  0.8364114570948813,\n",
       "  0.833857656766971,\n",
       "  0.8249397281971242,\n",
       "  0.8185924784176879,\n",
       "  0.8117267025841607,\n",
       "  0.8188310617374049,\n",
       "  0.8266308477355374,\n",
       "  0.810424669749207,\n",
       "  0.8156997420721583,\n",
       "  0.8246936549743017,\n",
       "  0.8260830500059657,\n",
       "  0.8365998003217909,\n",
       "  0.8350033718678687,\n",
       "  0.8354611479573779,\n",
       "  0.83037368953228,\n",
       "  0.8181006010207865])"
      ]
     },
     "execution_count": 56,
     "metadata": {},
     "output_type": "execute_result"
    }
   ],
   "source": [
    "trainer.train()"
   ]
  },
  {
   "cell_type": "markdown",
   "id": "926353db",
   "metadata": {},
   "source": [
    "---\n",
    "Save the entire model"
   ]
  },
  {
   "cell_type": "code",
   "execution_count": 57,
   "id": "4446a6e9",
   "metadata": {},
   "outputs": [],
   "source": [
    "model.save_model(op.join('H:/Courses/DL_Projects/IS_project/semantic-segmentation/', config['SAVE_MODEL_PATH']))"
   ]
  }
 ],
 "metadata": {
  "kernelspec": {
   "display_name": "Python 3",
   "language": "python",
   "name": "python3"
  },
  "language_info": {
   "codemirror_mode": {
    "name": "ipython",
    "version": 3
   },
   "file_extension": ".py",
   "mimetype": "text/x-python",
   "name": "python",
   "nbconvert_exporter": "python",
   "pygments_lexer": "ipython3",
   "version": "3.8.13"
  },
  "vscode": {
   "interpreter": {
    "hash": "d8898a3858fdc754ecd3bba8bfd55887b5894d5c40e43c09aec9ddf2b14be9e5"
   }
  }
 },
 "nbformat": 4,
 "nbformat_minor": 5
}
